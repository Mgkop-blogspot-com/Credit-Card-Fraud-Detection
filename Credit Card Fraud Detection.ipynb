{
 "cells": [
  {
   "cell_type": "code",
   "execution_count": 1,
   "metadata": {},
   "outputs": [],
   "source": [
    "#Import Libraries\n",
    "import numpy as np\n",
    "import matplotlib.pyplot as mp\n",
    "import pandas as pd"
   ]
  },
  {
   "cell_type": "code",
   "execution_count": 2,
   "metadata": {},
   "outputs": [
    {
     "name": "stdout",
     "output_type": "stream",
     "text": [
      "(28481, 31)\n"
     ]
    }
   ],
   "source": [
    "#Import Dataset\n",
    "dataset=pd.read_csv(\"creditcard.csv\")\n",
    "dataset=dataset.sample(frac=0.1,random_state=1)\n",
    "print(dataset.shape)\n",
    "x=dataset.iloc[:,1:30].values\n",
    "y=dataset.iloc[:,30].values"
   ]
  },
  {
   "cell_type": "code",
   "execution_count": 3,
   "metadata": {},
   "outputs": [
    {
     "name": "stdout",
     "output_type": "stream",
     "text": [
      "(28481, 29)\n"
     ]
    }
   ],
   "source": [
    "print(x.shape)"
   ]
  },
  {
   "cell_type": "code",
   "execution_count": 4,
   "metadata": {},
   "outputs": [
    {
     "name": "stdout",
     "output_type": "stream",
     "text": [
      "(28481,)\n"
     ]
    }
   ],
   "source": [
    "print(y.shape)"
   ]
  },
  {
   "cell_type": "code",
   "execution_count": 5,
   "metadata": {},
   "outputs": [],
   "source": [
    "#Missing values\n",
    "from sklearn.impute import SimpleImputer\n",
    "imputer=SimpleImputer(missing_values=np.nan,strategy='mean')\n",
    "imputer.fit(x[:,1:30])\n",
    "x[:,1:30]=imputer.transform(x[:,1:30])"
   ]
  },
  {
   "cell_type": "code",
   "execution_count": 6,
   "metadata": {},
   "outputs": [
    {
     "name": "stdout",
     "output_type": "stream",
     "text": [
      "(28481, 29)\n"
     ]
    }
   ],
   "source": [
    "print(x.shape)"
   ]
  },
  {
   "cell_type": "code",
   "execution_count": 7,
   "metadata": {},
   "outputs": [],
   "source": [
    "#Splitting dataset into tranning and test set\n",
    "from sklearn.model_selection import train_test_split\n",
    "xtrain, xtest, ytrain, ytest = train_test_split(x, y, test_size=0.25, random_state = 0)"
   ]
  },
  {
   "cell_type": "code",
   "execution_count": 8,
   "metadata": {},
   "outputs": [
    {
     "name": "stdout",
     "output_type": "stream",
     "text": [
      "xtrain.shape :  (21360, 29)\n",
      "xtest.shape  :  (7121, 29)\n",
      "ytrain.shape :  (21360,)\n",
      "xtest.shape  :  (7121, 29)\n"
     ]
    }
   ],
   "source": [
    "print(\"xtrain.shape : \", xtrain.shape)\n",
    "print(\"xtest.shape  : \", xtest.shape)\n",
    "print(\"ytrain.shape : \", ytrain.shape)\n",
    "print(\"xtest.shape  : \", xtest.shape)"
   ]
  },
  {
   "cell_type": "code",
   "execution_count": 9,
   "metadata": {},
   "outputs": [],
   "source": [
    "#Fatures Scaling\n",
    "from sklearn.preprocessing import StandardScaler\n",
    "sc=StandardScaler()\n",
    "xtrain = sc.fit_transform(xtrain)\n",
    "xtest = sc.transform(xtest)"
   ]
  },
  {
   "cell_type": "code",
   "execution_count": 10,
   "metadata": {},
   "outputs": [
    {
     "name": "stdout",
     "output_type": "stream",
     "text": [
      "Standardised Training Set : \n",
      " [ 0.74984069 -0.55707311 -0.01889536 -1.24005593 -0.44355532  0.33702988\n",
      " -0.81565277  0.04258148 -2.01479241  1.41516826  0.58482045  0.10822904\n",
      "  1.71393924 -0.38952174  0.08658512 -0.23243629  0.05886731  0.29503432\n",
      "  0.14072466 -0.28589618 -0.26309703 -0.16827534 -0.15782053 -1.88604126\n",
      "  0.91947294 -0.26649721  0.11802904  0.00259242 -0.26449705]\n"
     ]
    }
   ],
   "source": [
    "print(\"Standardised Training Set : \\n\", xtrain[0])"
   ]
  },
  {
   "cell_type": "code",
   "execution_count": 11,
   "metadata": {},
   "outputs": [
    {
     "data": {
      "text/plain": [
       "KNeighborsClassifier(algorithm='auto', leaf_size=30, metric='minkowski',\n",
       "                     metric_params=None, n_jobs=None, n_neighbors=5, p=2,\n",
       "                     weights='uniform')"
      ]
     },
     "execution_count": 11,
     "metadata": {},
     "output_type": "execute_result"
    }
   ],
   "source": [
    "# KNN Classifier\n",
    "from sklearn.neighbors import KNeighborsClassifier\n",
    "classifier = KNeighborsClassifier(n_neighbors = 5, metric = 'minkowski', p = 2)\n",
    "classifier.fit(xtrain, ytrain)"
   ]
  },
  {
   "cell_type": "code",
   "execution_count": 12,
   "metadata": {},
   "outputs": [
    {
     "name": "stdout",
     "output_type": "stream",
     "text": [
      "[[7111    1]\n",
      " [   2    7]]\n",
      "Accuracy_Decison    :  99.9578710855217\n",
      "Error_rate  :  0.04212891447830361\n"
     ]
    }
   ],
   "source": [
    "from sklearn.metrics import confusion_matrix, accuracy_score\n",
    "y_pred = classifier.predict(xtest)\n",
    "cm = confusion_matrix(ytest, y_pred)\n",
    "print(cm)\n",
    "accuracy_score(ytest, y_pred)\n",
    "Accuracy_Decison = ((cm[0][0] + cm[1][1]) / cm.sum()) *100\n",
    "print(\"Accuracy_Decison    : \", Accuracy_Decison)\n",
    "Error_rate = ((cm[0][1] + cm[1][0]) / cm.sum()) *100\n",
    "print(\"Error_rate  : \", Error_rate)\n"
   ]
  },
  {
   "cell_type": "code",
   "execution_count": 13,
   "metadata": {},
   "outputs": [
    {
     "data": {
      "text/plain": [
       "DecisionTreeClassifier(class_weight=None, criterion='entropy', max_depth=None,\n",
       "                       max_features=None, max_leaf_nodes=None,\n",
       "                       min_impurity_decrease=0.0, min_impurity_split=None,\n",
       "                       min_samples_leaf=1, min_samples_split=2,\n",
       "                       min_weight_fraction_leaf=0.0, presort=False,\n",
       "                       random_state=0, splitter='best')"
      ]
     },
     "execution_count": 13,
     "metadata": {},
     "output_type": "execute_result"
    }
   ],
   "source": [
    "#Decision Tree Classification\n",
    "from sklearn.tree import DecisionTreeClassifier\n",
    "classifier = DecisionTreeClassifier(criterion = 'entropy', random_state = 0)\n",
    "classifier.fit(xtrain, ytrain)"
   ]
  },
  {
   "cell_type": "code",
   "execution_count": 14,
   "metadata": {},
   "outputs": [
    {
     "name": "stdout",
     "output_type": "stream",
     "text": [
      "[[7106    6]\n",
      " [   3    6]]\n",
      "Accuracy_Decison    :  99.87361325656508\n",
      "Error_rate  :  0.12638674343491083\n"
     ]
    }
   ],
   "source": [
    "from sklearn.metrics import confusion_matrix, accuracy_score\n",
    "y_pred=classifier.predict(xtest)\n",
    "cm = confusion_matrix(ytest, y_pred)\n",
    "print(cm)\n",
    "accuracy_score(ytest, y_pred)\n",
    "Accuracy_Decison = ((cm[0][0] + cm[1][1]) / cm.sum()) *100\n",
    "print(\"Accuracy_Decison    : \", Accuracy_Decison)\n",
    "Error_rate = ((cm[0][1] + cm[1][0]) / cm.sum()) *100\n",
    "print(\"Error_rate  : \", Error_rate)"
   ]
  },
  {
   "cell_type": "code",
   "execution_count": 15,
   "metadata": {},
   "outputs": [
    {
     "data": {
      "text/plain": [
       "RandomForestClassifier(bootstrap=True, class_weight=None, criterion='entropy',\n",
       "                       max_depth=None, max_features='auto', max_leaf_nodes=None,\n",
       "                       min_impurity_decrease=0.0, min_impurity_split=None,\n",
       "                       min_samples_leaf=1, min_samples_split=2,\n",
       "                       min_weight_fraction_leaf=0.0, n_estimators=10,\n",
       "                       n_jobs=None, oob_score=False, random_state=0, verbose=0,\n",
       "                       warm_start=False)"
      ]
     },
     "execution_count": 15,
     "metadata": {},
     "output_type": "execute_result"
    }
   ],
   "source": [
    "#Random Tree Classification\n",
    "from sklearn.ensemble import RandomForestClassifier\n",
    "classifier = RandomForestClassifier(n_estimators = 10, criterion = 'entropy', random_state = 0)\n",
    "classifier.fit(xtrain, ytrain)"
   ]
  },
  {
   "cell_type": "code",
   "execution_count": 16,
   "metadata": {},
   "outputs": [],
   "source": [
    "y_pred=classifier.predict(xtest)"
   ]
  },
  {
   "cell_type": "code",
   "execution_count": 17,
   "metadata": {},
   "outputs": [
    {
     "name": "stdout",
     "output_type": "stream",
     "text": [
      "[0 0 0 ... 0 0 0]\n"
     ]
    }
   ],
   "source": [
    "print(y_pred)"
   ]
  },
  {
   "cell_type": "code",
   "execution_count": 18,
   "metadata": {},
   "outputs": [
    {
     "name": "stdout",
     "output_type": "stream",
     "text": [
      "[[7112    0]\n",
      " [   5    4]]\n",
      "Accuracy_Decison    :  99.92978514253616\n",
      "Error_rate  :  0.07021485746383935\n"
     ]
    }
   ],
   "source": [
    "from sklearn.metrics import confusion_matrix, accuracy_score\n",
    "cm = confusion_matrix(ytest, y_pred)\n",
    "print(cm)\n",
    "accuracy_score(ytest, y_pred)\n",
    "Accuracy_Decison = ((cm[0][0] + cm[1][1]) / cm.sum()) *100\n",
    "print(\"Accuracy_Decison    : \", Accuracy_Decison)\n",
    "Error_rate = ((cm[0][1] + cm[1][0]) / cm.sum()) *100\n",
    "print(\"Error_rate  : \", Error_rate)"
   ]
  }
 ],
 "metadata": {
  "kernelspec": {
   "display_name": "Python 3",
   "language": "python",
   "name": "python3"
  },
  "language_info": {
   "codemirror_mode": {
    "name": "ipython",
    "version": 3
   },
   "file_extension": ".py",
   "mimetype": "text/x-python",
   "name": "python",
   "nbconvert_exporter": "python",
   "pygments_lexer": "ipython3",
   "version": "3.7.3"
  }
 },
 "nbformat": 4,
 "nbformat_minor": 2
}
